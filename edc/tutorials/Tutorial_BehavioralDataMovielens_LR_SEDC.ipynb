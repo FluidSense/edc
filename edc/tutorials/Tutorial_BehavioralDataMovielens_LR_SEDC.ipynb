{
 "cells": [
  {
   "cell_type": "markdown",
   "metadata": {},
   "source": [
    "<img src=\"movielens.png\" width=\"400\" height=\"200\" style=\"float: left;\" />"
   ]
  },
  {
   "cell_type": "markdown",
   "metadata": {},
   "source": [
    "**In this tutorial, we show you how to compute counterfactual explanations for explaining positively-predicted instances. We use movie viewing data (Movielens1m) where the goal is to predict gender ('Female' user). The counterfactual explanation shows a set of movies such that when removing them from the user's viewing history, the predicted class changes from 'Female' to 'Male'.**"
   ]
  },
  {
   "cell_type": "markdown",
   "metadata": {},
   "source": [
    "**Import libraries and import data set.**"
   ]
  },
  {
   "cell_type": "code",
   "execution_count": 53,
   "metadata": {},
   "outputs": [],
   "source": [
    "import pandas as pd\n",
    "import numpy as np\n",
    "import sedc_algorithm\n",
    "from function_edc import fn_1 \n",
    "import scipy\n",
    "from sklearn.metrics import roc_auc_score, accuracy_score, precision_recall_fscore_support, f1_score, confusion_matrix"
   ]
  },
  {
   "cell_type": "code",
   "execution_count": 54,
   "metadata": {},
   "outputs": [],
   "source": [
    "%run sedc_algorithm.py #run sedc_algorithm.py module"
   ]
  },
  {
   "cell_type": "markdown",
   "metadata": {},
   "source": [
    "**For this demonstration, we use the [Movielens 1M data set](https://grouplens.org/datasets/movielens/1m/), which contains movie viewing behavior of users. The target variable is binary (taking value 1 if gender = 'FEMALE' and 0 if gender = 'MALE').**"
   ]
  },
  {
   "cell_type": "code",
   "execution_count": 55,
   "metadata": {},
   "outputs": [],
   "source": [
    "target = pd.read_csv('target_ML1M.csv')\n",
    "target = 1-target\n",
    "data = pd.read_csv('data_ML1M.csv')\n",
    "feature_names = pd.read_csv('feature_names_ML1M.csv')"
   ]
  },
  {
   "cell_type": "markdown",
   "metadata": {},
   "source": [
    "**Split data into a training and test set (80-20%). We use a L2-regularized Logistic Regression model. We train the LR classifier on the training data set.**"
   ]
  },
  {
   "cell_type": "code",
   "execution_count": 37,
   "metadata": {},
   "outputs": [],
   "source": [
    "from sklearn.model_selection import train_test_split\n",
    "x_train, x_test, y_train, y_test = train_test_split(scipy.sparse.csr_matrix(data.iloc[:,1:3707].values), target.iloc[:,1], test_size=0.2, random_state=0)\n",
    "x_train, x_val, y_train, y_val = train_test_split(x_train, y_train, test_size=0.2, random_state=0)"
   ]
  },
  {
   "cell_type": "code",
   "execution_count": 38,
   "metadata": {},
   "outputs": [
    {
     "name": "stdout",
     "output_type": "stream",
     "text": [
      "The balance of target in training subset is 0.285123.\n"
     ]
    }
   ],
   "source": [
    "from sklearn.linear_model import LogisticRegression\n",
    "#Values of the regularization parameter C in L2-LR.\n",
    "C = [10**(-3),10**(-2),10**(-1),10**(0),10**(1),10**(2)]\n",
    "p = np.sum(y_train)/np.size(y_train)\n",
    "print(\"The balance of target in training subset is %f.\" %p)\n",
    "#There are 70% male users, 30% female users in the training data."
   ]
  },
  {
   "cell_type": "markdown",
   "metadata": {},
   "source": [
    "**We finetune the regularization parameter using a hold-out validation data set. We finetune the model on validation accuracy.**"
   ]
  },
  {
   "cell_type": "code",
   "execution_count": 16,
   "metadata": {},
   "outputs": [
    {
     "name": "stdout",
     "output_type": "stream",
     "text": [
      "The finetuning process has ended...\n"
     ]
    },
    {
     "data": {
      "text/plain": [
       "LogisticRegression(C=0.01, class_weight=None, dual=False, fit_intercept=True,\n",
       "                   intercept_scaling=1, l1_ratio=None, max_iter=100,\n",
       "                   multi_class='warn', n_jobs=None, penalty='l2',\n",
       "                   random_state=None, solver='sag', tol=0.0001, verbose=0,\n",
       "                   warm_start=False)"
      ]
     },
     "execution_count": 16,
     "metadata": {},
     "output_type": "execute_result"
    }
   ],
   "source": [
    "accuracy_vals=[]\n",
    "for c in C:\n",
    "    LR = LogisticRegression(penalty='l2', solver='sag', C = c) #L2-regularized Logistic Regression\n",
    "    LR.fit(x_train, y_train)\n",
    "        \n",
    "    probs = LR.predict_proba(x_val)[:,1]\n",
    "    threshold_classifier_probs = np.percentile(probs,(100-(p*100)))\n",
    "    predictions_probs = (probs >= threshold_classifier_probs) #Explicit, discrete predictions for validation data instances\n",
    "                \n",
    "    accuracy_val = accuracy_score(y_val, np.array(predictions_probs))\n",
    "    accuracy_vals.append(accuracy_val)\n",
    "print(\"The finetuning process has ended...\")\n",
    "    \n",
    "C_optimal_accuracy = C[np.argmax(accuracy_vals)]\n",
    "LR_best = LogisticRegression(penalty='l2', solver='sag', C = C_optimal_accuracy)\n",
    "LR_best.fit(x_train, y_train)"
   ]
  },
  {
   "cell_type": "code",
   "execution_count": 56,
   "metadata": {},
   "outputs": [
    {
     "name": "stdout",
     "output_type": "stream",
     "text": [
      "The accuracy of the model on the test data is 0.784768\n"
     ]
    }
   ],
   "source": [
    "probs = LR_best.predict_proba(x_test)[:,1]\n",
    "threshold_classifier_probs = np.percentile(probs,(100-(p*100)))\n",
    "predictions_probs = (probs >= threshold_classifier_probs) #Explicit, discrete predictions for validation data instances\n",
    "\n",
    "accuracy_test = accuracy_score(y_test, np.array(predictions_probs))\n",
    "print(\"The accuracy of the model on the test data is %f\" %accuracy_test)\n",
    "\n",
    "indices_probs_pos = np.nonzero(predictions_probs)#indices of the test instances that are positively-predicted"
   ]
  },
  {
   "cell_type": "code",
   "execution_count": 57,
   "metadata": {},
   "outputs": [],
   "source": [
    "classification_model = LR_best \n",
    "\n",
    "def classifier_fn(X):\n",
    "    c=classification_model.predict_proba(X)\n",
    "    y_predicted_proba=c[:,1]\n",
    "    return y_predicted_proba"
   ]
  },
  {
   "cell_type": "markdown",
   "metadata": {},
   "source": [
    "**Create an SEDC explainer object. By default, the SEDC algorithm stops looking for explanations when a first explanation is found or when a 5-minute time limit is exceeded or when more than 50 iterations are required (see edc_agnostic.py for more details). Only the active (nonzero) features are perturbed (set to zero) to evaluate the impact on the model's predicted output. In other words, only the movies that a user has watched can become part of the counterfactual explanation of the model prediction.**"
   ]
  },
  {
   "cell_type": "code",
   "execution_count": 19,
   "metadata": {},
   "outputs": [],
   "source": [
    "explainer_SEDC = SEDC_Explainer(feature_names = np.array(feature_names.iloc[:,1]), \n",
    "                               threshold_classifier = threshold_classifier_probs, \n",
    "                               classifier_fn = classifier_fn)"
   ]
  },
  {
   "cell_type": "markdown",
   "metadata": {},
   "source": [
    "**Show indices of positively-predicted test instances.** "
   ]
  },
  {
   "cell_type": "code",
   "execution_count": 58,
   "metadata": {},
   "outputs": [
    {
     "data": {
      "text/plain": [
       "(array([   1,    2,   13,   15,   16,   17,   33,   35,   36,   39,   45,\n",
       "          46,   47,   50,   51,   53,   56,   58,   59,   68,   72,   85,\n",
       "          92,   96,   98,   99,  105,  108,  109,  113,  121,  126,  128,\n",
       "         129,  130,  132,  134,  145,  155,  158,  165,  172,  178,  182,\n",
       "         184,  187,  188,  193,  194,  196,  205,  207,  208,  209,  210,\n",
       "         212,  217,  218,  224,  225,  226,  227,  229,  231,  232,  236,\n",
       "         240,  246,  251,  260,  261,  266,  267,  270,  286,  288,  293,\n",
       "         297,  299,  300,  303,  307,  308,  311,  313,  321,  327,  334,\n",
       "         335,  337,  344,  345,  347,  348,  357,  359,  362,  368,  370,\n",
       "         373,  377,  379,  381,  382,  387,  388,  390,  392,  393,  400,\n",
       "         402,  404,  405,  406,  407,  412,  414,  422,  426,  428,  429,\n",
       "         432,  434,  435,  438,  441,  445,  446,  447,  448,  449,  450,\n",
       "         452,  457,  459,  461,  467,  468,  480,  481,  488,  492,  494,\n",
       "         495,  497,  499,  500,  505,  507,  509,  511,  512,  516,  517,\n",
       "         518,  520,  522,  528,  531,  535,  536,  538,  541,  543,  544,\n",
       "         545,  551,  553,  560,  562,  580,  582,  585,  589,  591,  594,\n",
       "         598,  602,  604,  605,  611,  613,  614,  618,  621,  622,  626,\n",
       "         638,  646,  656,  658,  660,  662,  664,  668,  673,  674,  675,\n",
       "         683,  684,  693,  705,  707,  718,  721,  726,  728,  729,  733,\n",
       "         734,  736,  742,  746,  760,  764,  770,  774,  780,  782,  785,\n",
       "         787,  788,  790,  792,  794,  798,  799,  802,  804,  809,  812,\n",
       "         813,  824,  827,  829,  835,  853,  861,  863,  864,  865,  867,\n",
       "         868,  872,  874,  879,  881,  883,  884,  889,  891,  898,  902,\n",
       "         905,  906,  908,  909,  911,  914,  915,  921,  931,  933,  935,\n",
       "         942,  946,  948,  951,  958,  959,  960,  961,  963,  967,  972,\n",
       "         979,  982,  985,  992,  994,  995,  998, 1004, 1005, 1012, 1014,\n",
       "        1017, 1018, 1026, 1028, 1029, 1031, 1039, 1041, 1043, 1045, 1048,\n",
       "        1052, 1053, 1058, 1061, 1068, 1072, 1075, 1077, 1083, 1084, 1087,\n",
       "        1090, 1096, 1098, 1099, 1101, 1102, 1108, 1109, 1110, 1111, 1112,\n",
       "        1113, 1116, 1119, 1124, 1130, 1137, 1144, 1145, 1148, 1149, 1151,\n",
       "        1152, 1153, 1154, 1158, 1159, 1160, 1163, 1165, 1168, 1171, 1179,\n",
       "        1180, 1181, 1190, 1196], dtype=int64),)"
      ]
     },
     "execution_count": 58,
     "metadata": {},
     "output_type": "execute_result"
    }
   ],
   "source": [
    "indices_probs_pos #all instances that are predicted as 'FEMALE'"
   ]
  },
  {
   "cell_type": "markdown",
   "metadata": {},
   "source": [
    "**Explain why the user with index = 13 is predicted as a 'FEMALE' user by the model.**"
   ]
  },
  {
   "cell_type": "code",
   "execution_count": 77,
   "metadata": {
    "scrolled": true
   },
   "outputs": [
    {
     "name": "stdout",
     "output_type": "stream",
     "text": [
      "Initialization is complete.\n",
      "\n",
      " Elapsed time 0 \n",
      "\n",
      "\n",
      " Iteration 1 \n",
      "\n",
      "The difference is 0.041250\n",
      "Index is 0.000000\n",
      "Length of new_combinations is 1 features.\n",
      "New combinations can be expanded\n",
      "Threshold is 0.080442\n",
      "\n",
      " Elapsed time 0 \n",
      "\n",
      "\n",
      " Size combis to expand 344 \n",
      "\n",
      "\n",
      " Iteration 2 \n",
      "\n",
      "The difference is 0.080442\n",
      "Index is 143.000000\n",
      "Length of new_combinations is 2 features.\n",
      "New combinations can be expanded\n",
      "Threshold is 0.111525\n",
      "\n",
      " Elapsed time 0 \n",
      "\n",
      "\n",
      " Size combis to expand 514 \n",
      "\n",
      "\n",
      " Iteration 3 \n",
      "\n",
      "The difference is 0.111525\n",
      "Index is 55.000000\n",
      "Length of new_combinations is 3 features.\n",
      "New combinations can be expanded\n",
      "Threshold is 0.142423\n",
      "\n",
      " Elapsed time 0 \n",
      "\n",
      "\n",
      " Size combis to expand 683 \n",
      "\n",
      "\n",
      " Iteration 4 \n",
      "\n",
      "The difference is 0.142423\n",
      "Index is 0.000000\n",
      "Length of new_combinations is 4 features.\n",
      "New combinations can be expanded\n",
      "Threshold is 0.171638\n",
      "\n",
      " Elapsed time 1 \n",
      "\n",
      "\n",
      " Size combis to expand 851 \n",
      "\n",
      "\n",
      " Iteration 5 \n",
      "\n",
      "The difference is 0.171638\n",
      "Index is 96.000000\n",
      "Length of new_combinations is 5 features.\n",
      "New combinations can be expanded\n",
      "Threshold is 0.193319\n",
      "\n",
      " Elapsed time 2 \n",
      "\n",
      "\n",
      " Size combis to expand 1018 \n",
      "\n",
      "\n",
      " Iteration 6 \n",
      "\n",
      "The difference is 0.193319\n",
      "Index is 78.000000\n",
      "Length of new_combinations is 6 features.\n",
      "New combination cannot be expanded\n",
      "\n",
      " Elapsed time 2 \n",
      "\n",
      "\n",
      " Size combis to expand 1018 \n",
      "\n",
      "Iterations are done.\n",
      "\n",
      " Elapsed time 2 \n",
      "\n"
     ]
    }
   ],
   "source": [
    "index = 13\n",
    "instance_idx = x_test[index]\n",
    "explanation = explainer_SEDC.explanation(instance_idx)"
   ]
  },
  {
   "cell_type": "code",
   "execution_count": 78,
   "metadata": {},
   "outputs": [
    {
     "data": {
      "text/plain": [
       "[['Secrets & Lies (1996)',\n",
       "  'Strictly Ballroom (1992)',\n",
       "  'Shakespeare in Love (1998)',\n",
       "  'Ideal Husband',\n",
       "  'Thelma & Louise (1991)',\n",
       "  'Elizabeth (1998)']]"
      ]
     },
     "execution_count": 78,
     "metadata": {},
     "output_type": "execute_result"
    }
   ],
   "source": [
    "explanation[0]"
   ]
  },
  {
   "cell_type": "code",
   "execution_count": 63,
   "metadata": {},
   "outputs": [
    {
     "name": "stdout",
     "output_type": "stream",
     "text": [
      "IF the user did not watch the movie(s) ['Secrets & Lies (1996)', 'Strictly Ballroom (1992)', 'Shakespeare in Love (1998)', 'Ideal Husband', 'Thelma & Louise (1991)', 'Elizabeth (1998)'], THEN the predicted class would change from 'FEMALE' to 'MALE'.\n"
     ]
    }
   ],
   "source": [
    "print(\"IF the user did not watch the movie(s) \" + str(explanation[0][0]) + \", THEN the predicted class would change from 'FEMALE' to 'MALE'.\")"
   ]
  },
  {
   "cell_type": "markdown",
   "metadata": {},
   "source": [
    "**Explain why the user with index = 15 is predicted as a 'FEMALE' user by the model.**"
   ]
  },
  {
   "cell_type": "code",
   "execution_count": 45,
   "metadata": {},
   "outputs": [
    {
     "name": "stdout",
     "output_type": "stream",
     "text": [
      "Initialization is complete.\n",
      "\n",
      " Elapsed time 0 \n",
      "\n",
      "\n",
      " Iteration 1 \n",
      "\n",
      "The difference is 0.042161\n",
      "Index is 1.000000\n",
      "Length of new_combinations is 1 features.\n",
      "New combinations can be expanded\n",
      "Threshold is 0.080799\n",
      "\n",
      " Elapsed time 0 \n",
      "\n",
      "\n",
      " Size combis to expand 120 \n",
      "\n",
      "\n",
      " Iteration 2 \n",
      "\n",
      "The difference is 0.080799\n",
      "Index is 23.000000\n",
      "Length of new_combinations is 2 features.\n",
      "New combinations can be expanded\n",
      "Threshold is 0.081043\n",
      "\n",
      " Elapsed time 0 \n",
      "\n",
      "\n",
      " Size combis to expand 178 \n",
      "\n",
      "\n",
      " Iteration 3 \n",
      "\n",
      "The difference is 0.081043\n",
      "Index is 24.000000\n",
      "Length of new_combinations is 3 features.\n",
      "New combination cannot be expanded\n",
      "\n",
      " Elapsed time 0 \n",
      "\n",
      "\n",
      " Size combis to expand 178 \n",
      "\n",
      "Iterations are done.\n",
      "\n",
      " Elapsed time 0 \n",
      "\n"
     ]
    }
   ],
   "source": [
    "index = 15\n",
    "instance_idx = x_test[index]\n",
    "explanation = explainer_SEDC.explanation(instance_idx)"
   ]
  },
  {
   "cell_type": "code",
   "execution_count": 64,
   "metadata": {},
   "outputs": [
    {
     "name": "stdout",
     "output_type": "stream",
     "text": [
      "IF the user did not watch the movie(s) ['Secrets & Lies (1996)', 'Strictly Ballroom (1992)', 'Shakespeare in Love (1998)', 'Ideal Husband', 'Thelma & Louise (1991)', 'Elizabeth (1998)'], THEN the predicted class would change from 'FEMALE' to 'MALE'.\n"
     ]
    }
   ],
   "source": [
    "explanation[0]\n",
    "print(\"IF the user did not watch the movie(s) \" + str(explanation[0][0]) + \", THEN the predicted class would change from 'FEMALE' to 'MALE'.\")"
   ]
  },
  {
   "cell_type": "markdown",
   "metadata": {},
   "source": [
    "**Show more information about the explanation(s): *explanation[0]* shows the explanation set(s), *explanation[1]* shows the number of active features of the instance to explain, *explanation[2]* shows the number of explanations found, *explanation[3]* shows the number of features in the smallest-sized explanation, *explanation[4]* shows the time elapsed in seconds to find the explanation, *explanation[5]* shows the predicted score change when removing the feature(s) in the smallest-sized explanation, *explanation[6]* shows the number of iterations that the algorithm needed.**"
   ]
  },
  {
   "cell_type": "code",
   "execution_count": 66,
   "metadata": {},
   "outputs": [
    {
     "data": {
      "text/plain": [
       "([['Gone with the Wind (1939)',\n",
       "   'Desperately Seeking Susan (1985)',\n",
       "   'To Kill a Mockingbird (1962)',\n",
       "   'Shakespeare in Love (1998)',\n",
       "   \"Breakfast at Tiffany's (1961)\",\n",
       "   'Thelma & Louise (1991)',\n",
       "   'Dirty Dancing (1987)']],\n",
       " 288,\n",
       " 51,\n",
       " 7,\n",
       " 6.268248796463013,\n",
       " [array([0.24175361])],\n",
       " 7)"
      ]
     },
     "execution_count": 66,
     "metadata": {},
     "output_type": "execute_result"
    }
   ],
   "source": [
    "explanation"
   ]
  },
  {
   "cell_type": "markdown",
   "metadata": {},
   "source": [
    "**Show the 10 first explanation(s) found by the SEDC algorithm to explain the user index = 13. We change max_explained to 10.**"
   ]
  },
  {
   "cell_type": "code",
   "execution_count": 72,
   "metadata": {},
   "outputs": [],
   "source": [
    "explainer_SEDC2 = SEDC_Explainer(feature_names = np.array(feature_names.iloc[:,1]), \n",
    "                               threshold_classifier = threshold_classifier_probs, \n",
    "                               classifier_fn = classifier_fn, max_explained = 10)"
   ]
  },
  {
   "cell_type": "code",
   "execution_count": 85,
   "metadata": {},
   "outputs": [
    {
     "name": "stdout",
     "output_type": "stream",
     "text": [
      "Initialization is complete.\n",
      "\n",
      " Elapsed time 0 \n",
      "\n",
      "\n",
      " Iteration 1 \n",
      "\n",
      "The difference is 0.039333\n",
      "Index is 28.000000\n",
      "Length of new_combinations is 1 features.\n",
      "New combinations can be expanded\n",
      "Threshold is 0.069850\n",
      "\n",
      " Elapsed time 0 \n",
      "\n",
      "\n",
      " Size combis to expand 242 \n",
      "\n",
      "\n",
      " Iteration 2 \n",
      "\n",
      "The difference is 0.069850\n",
      "Index is 1.000000\n",
      "Length of new_combinations is 2 features.\n",
      "New combinations can be expanded\n",
      "Threshold is 0.080090\n",
      "\n",
      " Elapsed time 0 \n",
      "\n",
      "\n",
      " Size combis to expand 361 \n",
      "\n",
      "\n",
      " Iteration 3 \n",
      "\n",
      "The difference is 0.080090\n",
      "Index is 78.000000\n",
      "Length of new_combinations is 3 features.\n",
      "New combination cannot be expanded\n",
      "\n",
      " Elapsed time 0 \n",
      "\n",
      "\n",
      " Size combis to expand 361 \n",
      "\n",
      "Iterations are done.\n",
      "\n",
      " Elapsed time 0 \n",
      "\n"
     ]
    }
   ],
   "source": [
    "index = 45\n",
    "instance_idx = x_test[index]\n",
    "explanation = explainer_SEDC2.explanation(instance_idx)"
   ]
  },
  {
   "cell_type": "markdown",
   "metadata": {},
   "source": [
    "**There are 32 explanations found after 3 iterations. The time elapsed is less than a second. The number of active features (movies watched) is 122 movies.**"
   ]
  },
  {
   "cell_type": "code",
   "execution_count": 87,
   "metadata": {},
   "outputs": [
    {
     "data": {
      "text/plain": [
       "([['Sense and Sensibility (1995)',\n",
       "   'Shakespeare in Love (1998)',\n",
       "   'Elizabeth (1998)'],\n",
       "  ['Sense and Sensibility (1995)',\n",
       "   'Shakespeare in Love (1998)',\n",
       "   '28 Days (2000)'],\n",
       "  ['Sense and Sensibility (1995)',\n",
       "   'Shakespeare in Love (1998)',\n",
       "   'Kiss the Girls (1997)'],\n",
       "  ['Sense and Sensibility (1995)',\n",
       "   'Shakespeare in Love (1998)',\n",
       "   'What Lies Beneath (2000)'],\n",
       "  ['Sense and Sensibility (1995)',\n",
       "   'Shakespeare in Love (1998)',\n",
       "   'Working Girl (1988)'],\n",
       "  ['Sense and Sensibility (1995)',\n",
       "   'Shakespeare in Love (1998)',\n",
       "   'Pretty Woman (1990)'],\n",
       "  ['Sense and Sensibility (1995)',\n",
       "   'Shakespeare in Love (1998)',\n",
       "   'Babe (1995)'],\n",
       "  ['Sense and Sensibility (1995)',\n",
       "   'Shakespeare in Love (1998)',\n",
       "   'Fatal Attraction (1987)'],\n",
       "  ['Sense and Sensibility (1995)',\n",
       "   'Shakespeare in Love (1998)',\n",
       "   \"William Shakespeare's Romeo and Juliet (1996)\"],\n",
       "  ['Sense and Sensibility (1995)',\n",
       "   'Shakespeare in Love (1998)',\n",
       "   'Seven (Se7en) (1995)']],\n",
       " 122,\n",
       " 32,\n",
       " 3,\n",
       " 0.3930349349975586,\n",
       " [array([0.09805177]),\n",
       "  array([0.0978386]),\n",
       "  array([0.0947016]),\n",
       "  array([0.09215392]),\n",
       "  array([0.09175856]),\n",
       "  array([0.09097451]),\n",
       "  array([0.09062934]),\n",
       "  array([0.08967295]),\n",
       "  array([0.08961191]),\n",
       "  array([0.08835361])],\n",
       " 3)"
      ]
     },
     "execution_count": 87,
     "metadata": {},
     "output_type": "execute_result"
    }
   ],
   "source": [
    "explanation"
   ]
  }
 ],
 "metadata": {
  "kernelspec": {
   "display_name": "Python 3",
   "language": "python",
   "name": "python3"
  },
  "language_info": {
   "codemirror_mode": {
    "name": "ipython",
    "version": 3
   },
   "file_extension": ".py",
   "mimetype": "text/x-python",
   "name": "python",
   "nbconvert_exporter": "python",
   "pygments_lexer": "ipython3",
   "version": "3.7.3"
  }
 },
 "nbformat": 4,
 "nbformat_minor": 2
}
