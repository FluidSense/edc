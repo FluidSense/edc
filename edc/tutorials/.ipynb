{
 "cells": [
  {
   "cell_type": "markdown",
   "metadata": {},
   "source": [
    "**Import libraries and import data set.**"
   ]
  },
  {
   "cell_type": "code",
   "execution_count": 24,
   "metadata": {},
   "outputs": [],
   "source": [
    "import pandas as pd\n",
    "import numpy as np\n",
    "import os \n",
    "import scipy\n",
    "\n",
    "import edc_agnostic\n",
    "from function_edc import fn_1 \n"
   ]
  },
  {
   "cell_type": "code",
   "execution_count": 25,
   "metadata": {},
   "outputs": [],
   "source": [
    "%run edc_agnostic.py #run edc_agnostic.py module"
   ]
  },
  {
   "cell_type": "markdown",
   "metadata": {},
   "source": [
    "**For this demonstration, we use the [Movielens 1M data set](https://grouplens.org/datasets/movielens/1m/), which contains movie viewing behavior of users. The target variable is binary (taking value 1 if gender = 'MALE' and 0 if gender = 'FEMALE').**"
   ]
  },
  {
   "cell_type": "code",
   "execution_count": 27,
   "metadata": {},
   "outputs": [],
   "source": [
    "target = pd.read_csv('target_ML1M.csv')\n",
    "data = pd.read_csv('data_ML1M.csv')\n",
    "feature_names = pd.read_csv('feature_names_ML1M.csv')"
   ]
  },
  {
   "cell_type": "markdown",
   "metadata": {},
   "source": [
    "**Split data into a training and test set (80-20%). We use the finetuned MLP hyperparameter configuration as found in the paper of De Cnudde et al. (2018) titled *'An exploratory study towards applying and demystifying deep learning classification on behavioral big data'*. We train the MLP classifier on the training data set.** "
   ]
  },
  {
   "cell_type": "code",
   "execution_count": 28,
   "metadata": {},
   "outputs": [],
   "source": [
    "from sklearn.model_selection import train_test_split\n",
    "x_train, x_test, y_train, y_test = train_test_split(scipy.sparse.csr_matrix(data.iloc[:,1:3707].values), target.iloc[:,1], test_size=0.2, random_state=0)"
   ]
  },
  {
   "cell_type": "code",
   "execution_count": 29,
   "metadata": {},
   "outputs": [
    {
     "data": {
      "text/plain": [
       "MLPClassifier(activation='relu', alpha=0.0001, batch_size=100, beta_1=0.9,\n",
       "              beta_2=0.999, early_stopping=True, epsilon=1e-08,\n",
       "              hidden_layer_sizes=(532, 135, 1009), learning_rate='adaptive',\n",
       "              learning_rate_init=0.30452, max_iter=200, momentum=0.9,\n",
       "              n_iter_no_change=10, nesterovs_momentum=True, power_t=0.5,\n",
       "              random_state=None, shuffle=True, solver='lbfgs', tol=0.0001,\n",
       "              validation_fraction=0.1, verbose=False, warm_start=False)"
      ]
     },
     "execution_count": 29,
     "metadata": {},
     "output_type": "execute_result"
    }
   ],
   "source": [
    "from sklearn.neural_network import MLPClassifier\n",
    "MLP_model = MLPClassifier(activation='relu', learning_rate_init=0.30452, alpha=0.0001, learning_rate='adaptive', early_stopping=True, hidden_layer_sizes=(532,135,1009), solver='lbfgs', batch_size=100)\n",
    "MLP_model.fit(x_train, y_train)"
   ]
  },
  {
   "cell_type": "markdown",
   "metadata": {},
   "source": [
    "**Calculate the Area under the ROC curve (AUC) of the model on the test set.**"
   ]
  },
  {
   "cell_type": "code",
   "execution_count": 30,
   "metadata": {},
   "outputs": [
    {
     "name": "stdout",
     "output_type": "stream",
     "text": [
      "The AUC of the model is 0.820371\n"
     ]
    }
   ],
   "source": [
    "from sklearn.metrics import roc_auc_score\n",
    "\n",
    "Scores = MLP_model.predict_proba(x_test)[:,1] #predict scores using the trained MLP model\n",
    "AUC = roc_auc_score(y_test,Scores) #output AUC of the model \n",
    "print(\"The AUC of the model is %f\" %AUC)"
   ]
  },
  {
   "cell_type": "markdown",
   "metadata": {},
   "source": [
    "**Predict 25% of the test instances as positive (gender = 'MALE') (e.g., because of a limited target budget). Obtain the indices of the test instances that are predicted as 'MALE', i.e. the instances that the model is most sure of that they are 'MALE' users.**"
   ]
  },
  {
   "cell_type": "code",
   "execution_count": 31,
   "metadata": {},
   "outputs": [],
   "source": [
    "probs = MLP_model.predict_proba(x_test)[:,1]\n",
    "threshold_classifier_probs = np.percentile(probs,75) \n",
    "predictions_probs = (probs>=threshold_classifier_probs)\n",
    "indices_probs_pos = np.nonzero(predictions_probs)#indices of the test instances that are positively-predicted"
   ]
  },
  {
   "cell_type": "code",
   "execution_count": 32,
   "metadata": {},
   "outputs": [],
   "source": [
    "classification_model = MLP_model \n",
    "\n",
    "def classifier_fn(X):\n",
    "    c=classification_model.predict_proba(X)\n",
    "    y_predicted_proba=c[:,1]\n",
    "    return y_predicted_proba"
   ]
  },
  {
   "cell_type": "markdown",
   "metadata": {},
   "source": [
    "**Create an SEDC explainer object. By default, the SEDC algorithm stops looking for explanations when a first explanation is found or when a 2-minute time limit is exceeded or when more than 50 iterations are required (see edc_agnostic.py for more details). Only the active (~nonzero) features are perturbed (~set to zero) to evaluate the impact on the model's predicted output. In other words, only the movies that a user has watched can become part of the counterfactual explanation of the model prediction.**"
   ]
  },
  {
   "cell_type": "code",
   "execution_count": 33,
   "metadata": {},
   "outputs": [],
   "source": [
    "explainer_SEDC = EDC_Explainer(feature_names = np.array(feature_names.iloc[:,1]), \n",
    "                               threshold_classifier = threshold_classifier_probs, \n",
    "                               classifier_fn = classifier_fn)"
   ]
  },
  {
   "cell_type": "markdown",
   "metadata": {},
   "source": [
    "**Show indices of positively-predicted test instances.** "
   ]
  },
  {
   "cell_type": "code",
   "execution_count": 52,
   "metadata": {},
   "outputs": [
    {
     "data": {
      "text/plain": [
       "(array([   4,   12,   20,   21,   25,   30,   32,   37,   57,   60,   65,\n",
       "          74,   75,   82,   84,   86,   88,   94,   95,   97,  101,  106,\n",
       "         116,  119,  120,  122,  123,  127,  133,  139,  140,  141,  142,\n",
       "         144,  148,  150,  152,  162,  164,  166,  167,  173,  174,  175,\n",
       "         180,  181,  189,  190,  199,  200,  206,  211,  214,  216,  220,\n",
       "         221,  222,  223,  230,  233,  238,  239,  254,  255,  257,  262,\n",
       "         264,  269,  271,  282,  284,  287,  290,  292,  295,  296,  301,\n",
       "         305,  307,  309,  312,  315,  316,  317,  319,  339,  340,  341,\n",
       "         343,  349,  350,  352,  353,  358,  360,  361,  372,  375,  383,\n",
       "         384,  394,  395,  396,  401,  415,  417,  421,  436,  451,  454,\n",
       "         458,  466,  471,  472,  475,  478,  482,  485,  487,  489,  501,\n",
       "         503,  513,  523,  524,  532,  533,  539,  548,  550,  554,  557,\n",
       "         563,  564,  565,  572,  575,  579,  590,  600,  608,  609,  615,\n",
       "         623,  627,  640,  641,  643,  647,  648,  650,  654,  657,  659,\n",
       "         665,  666,  669,  670,  677,  682,  685,  694,  698,  703,  706,\n",
       "         709,  710,  714,  716,  719,  722,  723,  724,  735,  737,  738,\n",
       "         739,  740,  748,  749,  750,  751,  753,  756,  757,  759,  769,\n",
       "         771,  773,  777,  783,  784,  793,  796,  800,  806,  819,  820,\n",
       "         828,  830,  838,  842,  844,  845,  847,  855,  856,  860,  866,\n",
       "         869,  873,  876,  878,  880,  885,  886,  890,  892,  894,  895,\n",
       "         904,  936,  938,  941,  944,  945,  949,  950,  952,  953,  955,\n",
       "         956,  957,  965,  971,  980,  983,  984,  987,  990,  993,  996,\n",
       "        1000, 1002, 1003, 1006, 1011, 1020, 1021, 1022, 1027, 1032, 1038,\n",
       "        1042, 1050, 1063, 1067, 1069, 1071, 1074, 1078, 1080, 1081, 1085,\n",
       "        1088, 1089, 1100, 1104, 1105, 1115, 1117, 1120, 1122, 1125, 1129,\n",
       "        1132, 1134, 1135, 1138, 1141, 1142, 1156, 1161, 1164, 1167, 1169,\n",
       "        1170, 1178, 1182, 1185, 1186, 1189, 1191, 1193, 1195, 1198, 1199,\n",
       "        1200, 1203, 1204, 1206, 1207], dtype=int64),)"
      ]
     },
     "execution_count": 52,
     "metadata": {},
     "output_type": "execute_result"
    }
   ],
   "source": [
    "indices_probs_pos #all instances that are predicted as 'MALE'"
   ]
  },
  {
   "cell_type": "markdown",
   "metadata": {},
   "source": [
    "**Explain why the user with index = 4 is predicted as a 'MALE' user by the model.**"
   ]
  },
  {
   "cell_type": "code",
   "execution_count": 56,
   "metadata": {},
   "outputs": [],
   "source": [
    "index = 4\n",
    "instance_idx = x_test[index]\n",
    "explanation = explainer_SEDC.explanation(instance_idx)"
   ]
  },
  {
   "cell_type": "markdown",
   "metadata": {},
   "source": [
    "**Show explanation(s) that is/are found.**"
   ]
  },
  {
   "cell_type": "code",
   "execution_count": 68,
   "metadata": {},
   "outputs": [
    {
     "data": {
      "text/plain": [
       "[['Austin Powers']]"
      ]
     },
     "execution_count": 68,
     "metadata": {},
     "output_type": "execute_result"
    }
   ],
   "source": [
    "explanation[0]"
   ]
  },
  {
   "cell_type": "code",
   "execution_count": 70,
   "metadata": {},
   "outputs": [
    {
     "name": "stdout",
     "output_type": "stream",
     "text": [
      "IF the user did not watch the movie(s) ['Austin Powers'], THEN the predicted class would change from 'MALE' to 'FEMALE'.\n"
     ]
    }
   ],
   "source": [
    "print(\"IF the user did not watch the movie(s) \" + str(explanation[0][0]) + \", THEN the predicted class would change from 'MALE' to 'FEMALE'.\")\n"
   ]
  },
  {
   "cell_type": "markdown",
   "metadata": {},
   "source": [
    "**Show more information about the explanation(s): *explanation[0]* shows the explanation set(s), *explanation[1]* shows the number of active features of the instance to explain, *explanation[2]* shows the number of explanations found, *explanation[3]* shows the number of features in the smallest-sized explanation, *explanation[4]* shows the time elapsed in seconds to find the explanation, *explanation[6]* shows the predicted score change when removing the feature(s) in the smallest-sized explanation, *explanation[7]* shows the number of iterations that the algorithm needed.**"
   ]
  },
  {
   "cell_type": "code",
   "execution_count": 69,
   "metadata": {},
   "outputs": [
    {
     "data": {
      "text/plain": [
       "([['Austin Powers']],\n",
       " 126,\n",
       " 1,\n",
       " 1,\n",
       " 0.09369540214538574,\n",
       " [array([1.62236891e-11])],\n",
       " 1)"
      ]
     },
     "execution_count": 69,
     "metadata": {},
     "output_type": "execute_result"
    }
   ],
   "source": [
    "explanation"
   ]
  },
  {
   "cell_type": "markdown",
   "metadata": {},
   "source": [
    "**Explain why the user with index = 30 is predicted as a 'MALE' user by the model.**"
   ]
  },
  {
   "cell_type": "code",
   "execution_count": 105,
   "metadata": {},
   "outputs": [
    {
     "name": "stdout",
     "output_type": "stream",
     "text": [
      "Initialization complete\n",
      "\n",
      " Elapsed time 0 \n",
      "\n",
      "\n",
      " Iteration 1 \n",
      "\n",
      "length of new_combinations is 1 features.\n",
      "new combinations can be expanded\n",
      "\n",
      " Elapsed time 0 \n",
      "\n",
      "\n",
      " size combis to expand 382 \n",
      "\n",
      "\n",
      " Iteration 2 \n",
      "\n",
      "length of new_combinations is 2 features.\n",
      "new combinations can be expanded\n",
      "\n",
      " Elapsed time 0 \n",
      "\n",
      "\n",
      " size combis to expand 571 \n",
      "\n",
      "\n",
      " Iteration 3 \n",
      "\n",
      "length of new_combinations is 3 features.\n",
      "new combination cannot be expanded\n",
      "\n",
      " Elapsed time 1 \n",
      "\n",
      "\n",
      " size combis to expand 571 \n",
      "\n",
      "iterations are done\n",
      "\n",
      " Elapsed time 1 \n",
      "\n"
     ]
    }
   ],
   "source": [
    "index = 30\n",
    "instance_idx = x_test[index]\n",
    "explanation = explainer_SEDC.explanation(instance_idx)"
   ]
  },
  {
   "cell_type": "markdown",
   "metadata": {},
   "source": [
    "**Show the smallest-sized explanation found by the SEDC explainer for user with index = 30.**"
   ]
  },
  {
   "cell_type": "code",
   "execution_count": 106,
   "metadata": {},
   "outputs": [
    {
     "name": "stdout",
     "output_type": "stream",
     "text": [
      "IF the user did not watch the movie(s) ['Apocalypse Now (1979)', 'GoodFellas (1990)', 'Moonraker (1979)'], THEN the predicted class would change from 'MALE' to 'FEMALE'.\n"
     ]
    }
   ],
   "source": [
    "print(\"IF the user did not watch the movie(s) \" + str(explanation[0][0]) + \", THEN the predicted class would change from 'MALE' to 'FEMALE'.\")"
   ]
  },
  {
   "cell_type": "markdown",
   "metadata": {},
   "source": [
    "**Show the 10 first explanation(s) found by the SEDC algorithm to explain the user index = 30. We change max_explained to 10.**"
   ]
  },
  {
   "cell_type": "code",
   "execution_count": 108,
   "metadata": {},
   "outputs": [],
   "source": [
    "explainer_SEDC2 = EDC_Explainer(feature_names = np.array(feature_names.iloc[:,1]), \n",
    "                               threshold_classifier = threshold_classifier_probs, \n",
    "                               classifier_fn = classifier_fn, max_explained=10)"
   ]
  },
  {
   "cell_type": "code",
   "execution_count": 109,
   "metadata": {
    "scrolled": true
   },
   "outputs": [
    {
     "name": "stdout",
     "output_type": "stream",
     "text": [
      "Initialization complete\n",
      "\n",
      " Elapsed time 0 \n",
      "\n",
      "\n",
      " Iteration 1 \n",
      "\n",
      "length of new_combinations is 1 features.\n",
      "new combinations can be expanded\n",
      "\n",
      " Elapsed time 0 \n",
      "\n",
      "\n",
      " size combis to expand 382 \n",
      "\n",
      "\n",
      " Iteration 2 \n",
      "\n",
      "length of new_combinations is 2 features.\n",
      "new combinations can be expanded\n",
      "\n",
      " Elapsed time 0 \n",
      "\n",
      "\n",
      " size combis to expand 571 \n",
      "\n",
      "\n",
      " Iteration 3 \n",
      "\n",
      "length of new_combinations is 3 features.\n",
      "new combination cannot be expanded\n",
      "\n",
      " Elapsed time 1 \n",
      "\n",
      "\n",
      " size combis to expand 571 \n",
      "\n",
      "iterations are done\n",
      "\n",
      " Elapsed time 1 \n",
      "\n"
     ]
    }
   ],
   "source": [
    "index = 30\n",
    "instance_idx = x_test[index]\n",
    "explanation = explainer_SEDC2.explanation(instance_idx)"
   ]
  },
  {
   "cell_type": "markdown",
   "metadata": {},
   "source": [
    "**There are 85 explanations found after 3 iterations. The first 10 are shown. The time elapsed is 1.07 seconds. The number of active features (movies watched) is 192 movies.**"
   ]
  },
  {
   "cell_type": "code",
   "execution_count": 110,
   "metadata": {},
   "outputs": [
    {
     "data": {
      "text/plain": [
       "([['Apocalypse Now (1979)', 'GoodFellas (1990)', 'Moonraker (1979)'],\n",
       "  ['Apocalypse Now (1979)', 'GoodFellas (1990)', 'Halloween (1978)'],\n",
       "  ['Apocalypse Now (1979)', 'GoodFellas (1990)', 'Exorcist'],\n",
       "  ['Apocalypse Now (1979)', 'GoodFellas (1990)', 'Dr. Strangelove or'],\n",
       "  ['Apocalypse Now (1979)', 'GoodFellas (1990)', 'Apollo 13 (1995)'],\n",
       "  ['Apocalypse Now (1979)', 'GoodFellas (1990)', 'Toy Story 2 (1999)'],\n",
       "  ['Apocalypse Now (1979)', 'GoodFellas (1990)', 'Hunt for Red October'],\n",
       "  ['Apocalypse Now (1979)', 'GoodFellas (1990)', 'Being There (1979)'],\n",
       "  ['Apocalypse Now (1979)', 'GoodFellas (1990)', 'Few Good Men'],\n",
       "  ['Apocalypse Now (1979)',\n",
       "   'GoodFellas (1990)',\n",
       "   'Clear and Present Danger (1994)']],\n",
       " 192,\n",
       " 85,\n",
       " 3,\n",
       " 1.071535587310791,\n",
       " [array([2.02698303e-10]),\n",
       "  array([1.71272774e-10]),\n",
       "  array([1.49461554e-10]),\n",
       "  array([1.33312472e-10]),\n",
       "  array([1.32824196e-10]),\n",
       "  array([1.15168985e-10]),\n",
       "  array([1.0177259e-10]),\n",
       "  array([9.28264132e-11]),\n",
       "  array([9.27140587e-11]),\n",
       "  array([8.37869774e-11])],\n",
       " 3)"
      ]
     },
     "execution_count": 110,
     "metadata": {},
     "output_type": "execute_result"
    }
   ],
   "source": [
    "explanation"
   ]
  }
 ],
 "metadata": {
  "kernelspec": {
   "display_name": "Python 3",
   "language": "python",
   "name": "python3"
  },
  "language_info": {
   "codemirror_mode": {
    "name": "ipython",
    "version": 3
   },
   "file_extension": ".py",
   "mimetype": "text/x-python",
   "name": "python",
   "nbconvert_exporter": "python",
   "pygments_lexer": "ipython3",
   "version": "3.7.3"
  }
 },
 "nbformat": 4,
 "nbformat_minor": 2
}
