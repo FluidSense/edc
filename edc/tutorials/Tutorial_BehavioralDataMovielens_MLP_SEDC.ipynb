{
 "cells": [
  {
   "cell_type": "markdown",
   "metadata": {},
   "source": [
    "<img src=\"movielens.png\" width=\"400\" height=\"200\" style=\"float: left;\" />"
   ]
  },
  {
   "cell_type": "markdown",
   "metadata": {},
   "source": [
    "**In this tutorial, we show you how to compute counterfactual explanations for explaining positively-predicted instances. We use movie viewing data (Movielens1m) where the goal is to predict gender ('Female' user). The counterfactual explanation shows a set of movies such that when removing them from the user's viewing history, the predicted class changes from 'Female' to 'Male'.**"
   ]
  },
  {
   "cell_type": "markdown",
   "metadata": {},
   "source": [
    "**Import libraries and import data set.**"
   ]
  },
  {
   "cell_type": "code",
   "execution_count": 1,
   "metadata": {},
   "outputs": [],
   "source": [
    "import pandas as pd\n",
    "import numpy as np\n",
    "import sedc_algorithm\n",
    "from function_edc import fn_1 \n",
    "import scipy"
   ]
  },
  {
   "cell_type": "code",
   "execution_count": 2,
   "metadata": {},
   "outputs": [],
   "source": [
    "%run sedc_algorithm.py #run sedc_algorithm.py module"
   ]
  },
  {
   "cell_type": "markdown",
   "metadata": {},
   "source": [
    "**For this demonstration, we use the [Movielens 1M data set](https://grouplens.org/datasets/movielens/1m/), which contains movie viewing behavior of users. The target variable is binary (taking value 1 if gender = 'FEMALE' and 0 if gender = 'MALE').**"
   ]
  },
  {
   "cell_type": "code",
   "execution_count": 24,
   "metadata": {},
   "outputs": [],
   "source": [
    "target = pd.read_csv('target_ML1M.csv')\n",
    "target = 1 - target\n",
    "data = pd.read_csv('data_ML1M.csv')\n",
    "feature_names = pd.read_csv('feature_names_ML1M.csv')"
   ]
  },
  {
   "cell_type": "markdown",
   "metadata": {},
   "source": [
    "**Split data into a training and test set (80-20%). We use the finetuned MLP hyperparameter configuration as found in the paper of De Cnudde et al. (2018) titled *'An exploratory study towards applying and demystifying deep learning classification on behavioral big data'*. We train the MLP classifier on the training data set.** "
   ]
  },
  {
   "cell_type": "code",
   "execution_count": 47,
   "metadata": {},
   "outputs": [],
   "source": [
    "from sklearn.model_selection import train_test_split\n",
    "x_train, x_test, y_train, y_test = train_test_split(scipy.sparse.csr_matrix(data.iloc[:,1:3707].values), target.iloc[:,1], test_size=0.2, random_state=0)"
   ]
  },
  {
   "cell_type": "code",
   "execution_count": 48,
   "metadata": {},
   "outputs": [
    {
     "data": {
      "text/plain": [
       "MLPClassifier(activation='relu', alpha=0.0001, batch_size=100, beta_1=0.9,\n",
       "              beta_2=0.999, early_stopping=True, epsilon=1e-08,\n",
       "              hidden_layer_sizes=(532, 135, 1009), learning_rate='adaptive',\n",
       "              learning_rate_init=0.30452, max_iter=200, momentum=0.9,\n",
       "              n_iter_no_change=10, nesterovs_momentum=True, power_t=0.5,\n",
       "              random_state=None, shuffle=True, solver='lbfgs', tol=0.0001,\n",
       "              validation_fraction=0.1, verbose=False, warm_start=False)"
      ]
     },
     "execution_count": 48,
     "metadata": {},
     "output_type": "execute_result"
    }
   ],
   "source": [
    "from sklearn.neural_network import MLPClassifier\n",
    "MLP_model = MLPClassifier(activation='relu', learning_rate_init=0.30452, alpha=0.0001, learning_rate='adaptive', early_stopping=True, hidden_layer_sizes=(532,135,1009), solver='lbfgs', batch_size=100)\n",
    "MLP_model.fit(x_train, y_train)"
   ]
  },
  {
   "cell_type": "markdown",
   "metadata": {},
   "source": [
    "**Calculate the Area under the ROC curve (AUC) of the model on the test set.**"
   ]
  },
  {
   "cell_type": "code",
   "execution_count": 49,
   "metadata": {},
   "outputs": [
    {
     "name": "stdout",
     "output_type": "stream",
     "text": [
      "The AUC of the model is 0.815354\n"
     ]
    }
   ],
   "source": [
    "from sklearn.metrics import roc_auc_score\n",
    "\n",
    "Scores = MLP_model.predict_proba(x_test)[:,1] #predict scores using the trained MLP model\n",
    "AUC = roc_auc_score(y_test,Scores) #output AUC of the model \n",
    "print(\"The AUC of the model is %f\" %AUC)"
   ]
  },
  {
   "cell_type": "markdown",
   "metadata": {},
   "source": [
    "**Predict 25% of the test instances as positive (gender = 'FEMALE') (e.g., because of a limited target budget). Obtain the indices of the test instances that are predicted as 'FEMALE', i.e. the instances that the model is most sure of that they are 'FEMALE' users.**"
   ]
  },
  {
   "cell_type": "code",
   "execution_count": 50,
   "metadata": {},
   "outputs": [],
   "source": [
    "probs = MLP_model.predict_proba(x_test)[:,1]\n",
    "threshold_classifier_probs = np.percentile(probs,75) \n",
    "predictions_probs = (probs>=threshold_classifier_probs)\n",
    "indices_probs_pos = np.nonzero(predictions_probs)#indices of the test instances that are positively-predicted"
   ]
  },
  {
   "cell_type": "code",
   "execution_count": 65,
   "metadata": {},
   "outputs": [
    {
     "data": {
      "text/plain": [
       "False"
      ]
     },
     "execution_count": 65,
     "metadata": {},
     "output_type": "execute_result"
    }
   ],
   "source": [
    "probs[4] >= threshold_classifier_probs"
   ]
  },
  {
   "cell_type": "code",
   "execution_count": 61,
   "metadata": {},
   "outputs": [],
   "source": [
    "classification_model = MLP_model \n",
    "\n",
    "def classifier_fn(X):\n",
    "    c=classification_model.predict_proba(X)\n",
    "    y_predicted_proba=c[:,1]\n",
    "    return y_predicted_proba"
   ]
  },
  {
   "cell_type": "markdown",
   "metadata": {},
   "source": [
    "**Create an SEDC explainer object. By default, the SEDC algorithm stops looking for explanations when a first explanation is found or when a 5-minute time limit is exceeded or when more than 50 iterations are required (see edc_agnostic.py for more details). Only the active (nonzero) features are perturbed (set to zero) to evaluate the impact on the model's predicted output. In other words, only the movies that a user has watched can become part of the counterfactual explanation of the model prediction.**"
   ]
  },
  {
   "cell_type": "code",
   "execution_count": 52,
   "metadata": {},
   "outputs": [],
   "source": [
    "explainer_SEDC = SEDC_Explainer(feature_names = np.array(feature_names.iloc[:,1]), \n",
    "                               threshold_classifier = threshold_classifier_probs, \n",
    "                               classifier_fn = classifier_fn)"
   ]
  },
  {
   "cell_type": "markdown",
   "metadata": {},
   "source": [
    "**Show indices of positively-predicted test instances.** "
   ]
  },
  {
   "cell_type": "code",
   "execution_count": 53,
   "metadata": {},
   "outputs": [
    {
     "data": {
      "text/plain": [
       "(array([   1,    2,    6,   13,   17,   18,   27,   35,   39,   45,   46,\n",
       "          47,   50,   51,   53,   56,   68,   72,   92,   96,   98,  105,\n",
       "         109,  113,  118,  121,  126,  129,  132,  134,  145,  151,  155,\n",
       "         159,  165,  178,  182,  184,  187,  188,  193,  194,  196,  205,\n",
       "         207,  208,  209,  210,  212,  217,  218,  225,  226,  229,  232,\n",
       "         236,  251,  256,  260,  266,  267,  270,  274,  278,  281,  286,\n",
       "         289,  299,  300,  304,  311,  326,  327,  334,  335,  337,  344,\n",
       "         345,  347,  348,  357,  359,  362,  364,  370,  373,  376,  377,\n",
       "         379,  381,  386,  388,  390,  392,  393,  400,  402,  404,  405,\n",
       "         406,  410,  418,  422,  426,  428,  429,  432,  434,  435,  438,\n",
       "         440,  441,  446,  447,  448,  449,  450,  452,  457,  459,  463,\n",
       "         481,  491,  492,  495,  500,  502,  512,  516,  517,  518,  528,\n",
       "         530,  531,  536,  538,  541,  543,  544,  545,  553,  560,  561,\n",
       "         562,  567,  570,  580,  582,  585,  589,  593,  602,  604,  606,\n",
       "         611,  614,  618,  629,  631,  638,  646,  652,  655,  656,  658,\n",
       "         662,  664,  668,  673,  674,  675,  683,  684,  686,  692,  693,\n",
       "         705,  707,  708,  712,  718,  721,  726,  727,  728,  729,  733,\n",
       "         734,  736,  742,  746,  764,  774,  780,  782,  785,  787,  794,\n",
       "         797,  798,  799,  802,  804,  809,  813,  835,  839,  851,  853,\n",
       "         861,  862,  864,  868,  871,  872,  875,  879,  881,  884,  889,\n",
       "         891,  893,  902,  903,  905,  908,  909,  913,  914,  916,  919,\n",
       "         921,  931,  932,  933,  935,  951,  958,  959,  961,  972,  975,\n",
       "         979,  985,  988,  991,  992,  997,  998, 1004, 1005, 1012, 1014,\n",
       "        1015, 1017, 1026, 1029, 1031, 1040, 1041, 1047, 1049, 1052, 1058,\n",
       "        1061, 1064, 1065, 1073, 1077, 1082, 1083, 1093, 1095, 1096, 1098,\n",
       "        1099, 1102, 1109, 1110, 1111, 1112, 1114, 1116, 1119, 1131, 1144,\n",
       "        1145, 1148, 1149, 1151, 1153, 1154, 1157, 1158, 1159, 1163, 1165,\n",
       "        1168, 1171, 1181, 1190, 1196], dtype=int64),)"
      ]
     },
     "execution_count": 53,
     "metadata": {},
     "output_type": "execute_result"
    }
   ],
   "source": [
    "indices_probs_pos #all instances that are predicted as 'FEMALE'"
   ]
  },
  {
   "cell_type": "markdown",
   "metadata": {},
   "source": [
    "**Explain why the user with index = 17 is predicted as a 'FEMALE' user by the model.**"
   ]
  },
  {
   "cell_type": "code",
   "execution_count": 85,
   "metadata": {},
   "outputs": [
    {
     "name": "stdout",
     "output_type": "stream",
     "text": [
      "Initialization is complete.\n",
      "\n",
      " Elapsed time 0 \n",
      "\n",
      "\n",
      " Iteration 1 \n",
      "\n",
      "The difference is 0.132827\n",
      "Index is 7.000000\n",
      "Length of new_combinations is 1 features.\n",
      "New combination cannot be expanded\n",
      "\n",
      " Elapsed time 0 \n",
      "\n",
      "\n",
      " Size combis to expand 103 \n",
      "\n",
      "Iterations are done.\n",
      "\n",
      " Elapsed time 0 \n",
      "\n"
     ]
    }
   ],
   "source": [
    "index = 17\n",
    "instance_idx = x_test[index]\n",
    "explanation = explainer_SEDC.explanation(instance_idx)"
   ]
  },
  {
   "cell_type": "markdown",
   "metadata": {},
   "source": [
    "**Show explanation(s) that is/are found.**\n",
    "\n",
    "<img src=\"birdcage.jpg\" width=\"400\" height=\"200\" style=\"float: left;\" />"
   ]
  },
  {
   "cell_type": "code",
   "execution_count": 86,
   "metadata": {},
   "outputs": [
    {
     "data": {
      "text/plain": [
       "[['Birdcage']]"
      ]
     },
     "execution_count": 86,
     "metadata": {},
     "output_type": "execute_result"
    }
   ],
   "source": [
    "explanation[0]"
   ]
  },
  {
   "cell_type": "code",
   "execution_count": 87,
   "metadata": {},
   "outputs": [
    {
     "name": "stdout",
     "output_type": "stream",
     "text": [
      "IF the user did not watch the movie(s) ['Birdcage'], THEN the predicted class would change from 'FEMALE' to 'MALE'.\n"
     ]
    }
   ],
   "source": [
    "print(\"IF the user did not watch the movie(s) \" + str(explanation[0][0]) + \", THEN the predicted class would change from 'FEMALE' to 'MALE'.\")\n"
   ]
  },
  {
   "cell_type": "markdown",
   "metadata": {},
   "source": [
    "**Explain why the user with index = 13 is predicted as a 'FEMALE' user by the model.**"
   ]
  },
  {
   "cell_type": "code",
   "execution_count": 89,
   "metadata": {},
   "outputs": [
    {
     "name": "stdout",
     "output_type": "stream",
     "text": [
      "Initialization is complete.\n",
      "\n",
      " Elapsed time 0 \n",
      "\n",
      "\n",
      " Iteration 1 \n",
      "\n",
      "The difference is 0.000000\n",
      "Index is 6.000000\n",
      "Length of new_combinations is 1 features.\n",
      "New combinations can be expanded\n",
      "Threshold is 0.000006\n",
      "\n",
      " Elapsed time 0 \n",
      "\n",
      "\n",
      " Size combis to expand 344 \n",
      "\n",
      "\n",
      " Iteration 2 \n",
      "\n",
      "The difference is 0.000006\n",
      "Index is 68.000000\n",
      "Length of new_combinations is 2 features.\n",
      "New combinations can be expanded\n",
      "Threshold is 0.000339\n",
      "\n",
      " Elapsed time 0 \n",
      "\n",
      "\n",
      " Size combis to expand 514 \n",
      "\n",
      "\n",
      " Iteration 3 \n",
      "\n",
      "The difference is 0.000339\n",
      "Index is 34.000000\n",
      "Length of new_combinations is 3 features.\n",
      "New combinations can be expanded\n",
      "Threshold is 0.012820\n",
      "\n",
      " Elapsed time 1 \n",
      "\n",
      "\n",
      " Size combis to expand 683 \n",
      "\n",
      "\n",
      " Iteration 4 \n",
      "\n",
      "The difference is 0.012820\n",
      "Index is 22.000000\n",
      "Length of new_combinations is 4 features.\n",
      "New combinations can be expanded\n",
      "Threshold is 0.157805\n",
      "\n",
      " Elapsed time 2 \n",
      "\n",
      "\n",
      " Size combis to expand 851 \n",
      "\n",
      "\n",
      " Iteration 5 \n",
      "\n",
      "The difference is 0.157805\n",
      "Index is 67.000000\n",
      "Length of new_combinations is 5 features.\n",
      "New combination cannot be expanded\n",
      "\n",
      " Elapsed time 2 \n",
      "\n",
      "\n",
      " Size combis to expand 851 \n",
      "\n",
      "Iterations are done.\n",
      "\n",
      " Elapsed time 2 \n",
      "\n"
     ]
    }
   ],
   "source": [
    "index = 13\n",
    "instance_idx = x_test[index]\n",
    "explanation = explainer_SEDC.explanation(instance_idx)"
   ]
  },
  {
   "cell_type": "code",
   "execution_count": 90,
   "metadata": {},
   "outputs": [
    {
     "name": "stdout",
     "output_type": "stream",
     "text": [
      "IF the user did not watch the movie(s) ['Strictly Ballroom (1992)', 'Benny & Joon (1993)', 'Shakespeare in Love (1998)', 'Secrets & Lies (1996)', \"Smilla's Sense of Snow (1997)\"], THEN the predicted class would change from 'FEMALE' to 'MALE'.\n"
     ]
    }
   ],
   "source": [
    "print(\"IF the user did not watch the movie(s) \" + str(explanation[0][0]) + \", THEN the predicted class would change from 'FEMALE' to 'MALE'.\")"
   ]
  },
  {
   "cell_type": "markdown",
   "metadata": {},
   "source": [
    "**Show more information about the explanation(s): *explanation[0]* shows the explanation set(s), *explanation[1]* shows the number of active features of the instance to explain, *explanation[2]* shows the number of explanations found, *explanation[3]* shows the number of features in the smallest-sized explanation, *explanation[4]* shows the time elapsed in seconds to find the explanation, *explanation[5]* shows the predicted score change when removing the feature(s) in the smallest-sized explanation, *explanation[6]* shows the number of iterations that the algorithm needed.**"
   ]
  },
  {
   "cell_type": "code",
   "execution_count": 91,
   "metadata": {},
   "outputs": [
    {
     "data": {
      "text/plain": [
       "([['Strictly Ballroom (1992)',\n",
       "   'Benny & Joon (1993)',\n",
       "   'Shakespeare in Love (1998)',\n",
       "   'Secrets & Lies (1996)',\n",
       "   \"Smilla's Sense of Snow (1997)\"]],\n",
       " 173,\n",
       " 10,\n",
       " 5,\n",
       " 2.3148410320281982,\n",
       " [array([0.39455283])],\n",
       " 5)"
      ]
     },
     "execution_count": 91,
     "metadata": {},
     "output_type": "execute_result"
    }
   ],
   "source": [
    "explanation"
   ]
  },
  {
   "cell_type": "markdown",
   "metadata": {},
   "source": [
    "**Show the 10 first explanation(s) found by the SEDC algorithm to explain the user index = 13. We change max_explained to 10.**"
   ]
  },
  {
   "cell_type": "code",
   "execution_count": 93,
   "metadata": {},
   "outputs": [],
   "source": [
    "explainer_SEDC2 = SEDC_Explainer(feature_names = np.array(feature_names.iloc[:,1]), \n",
    "                               threshold_classifier = threshold_classifier_probs, \n",
    "                               classifier_fn = classifier_fn, max_explained = 10)"
   ]
  },
  {
   "cell_type": "code",
   "execution_count": 94,
   "metadata": {
    "scrolled": false
   },
   "outputs": [
    {
     "name": "stdout",
     "output_type": "stream",
     "text": [
      "Initialization is complete.\n",
      "\n",
      " Elapsed time 0 \n",
      "\n",
      "\n",
      " Iteration 1 \n",
      "\n",
      "The difference is 0.000000\n",
      "Index is 6.000000\n",
      "Length of new_combinations is 1 features.\n",
      "New combinations can be expanded\n",
      "Threshold is 0.000006\n",
      "\n",
      " Elapsed time 0 \n",
      "\n",
      "\n",
      " Size combis to expand 344 \n",
      "\n",
      "\n",
      " Iteration 2 \n",
      "\n",
      "The difference is 0.000006\n",
      "Index is 68.000000\n",
      "Length of new_combinations is 2 features.\n",
      "New combinations can be expanded\n",
      "Threshold is 0.000339\n",
      "\n",
      " Elapsed time 0 \n",
      "\n",
      "\n",
      " Size combis to expand 514 \n",
      "\n",
      "\n",
      " Iteration 3 \n",
      "\n",
      "The difference is 0.000339\n",
      "Index is 34.000000\n",
      "Length of new_combinations is 3 features.\n",
      "New combinations can be expanded\n",
      "Threshold is 0.012820\n",
      "\n",
      " Elapsed time 1 \n",
      "\n",
      "\n",
      " Size combis to expand 683 \n",
      "\n",
      "\n",
      " Iteration 4 \n",
      "\n",
      "The difference is 0.012820\n",
      "Index is 22.000000\n",
      "Length of new_combinations is 4 features.\n",
      "New combinations can be expanded\n",
      "Threshold is 0.157805\n",
      "\n",
      " Elapsed time 2 \n",
      "\n",
      "\n",
      " Size combis to expand 851 \n",
      "\n",
      "\n",
      " Iteration 5 \n",
      "\n",
      "The difference is 0.157805\n",
      "Index is 67.000000\n",
      "Length of new_combinations is 5 features.\n",
      "New combination cannot be expanded\n",
      "\n",
      " Elapsed time 2 \n",
      "\n",
      "\n",
      " Size combis to expand 851 \n",
      "\n",
      "Iterations are done.\n",
      "\n",
      " Elapsed time 2 \n",
      "\n"
     ]
    }
   ],
   "source": [
    "index = 13\n",
    "instance_idx = x_test[index]\n",
    "explanation = explainer_SEDC2.explanation(instance_idx)"
   ]
  },
  {
   "cell_type": "markdown",
   "metadata": {},
   "source": [
    "**There are 10 explanations found after 1 iteration. The time elapsed about 2 seconds. The number of active features (movies watched) is 173 movies.**"
   ]
  },
  {
   "cell_type": "code",
   "execution_count": 96,
   "metadata": {},
   "outputs": [
    {
     "data": {
      "text/plain": [
       "([['Strictly Ballroom (1992)',\n",
       "   'Benny & Joon (1993)',\n",
       "   'Shakespeare in Love (1998)',\n",
       "   'Secrets & Lies (1996)',\n",
       "   \"Smilla's Sense of Snow (1997)\"],\n",
       "  ['Strictly Ballroom (1992)',\n",
       "   'Benny & Joon (1993)',\n",
       "   'Shakespeare in Love (1998)',\n",
       "   'Secrets & Lies (1996)',\n",
       "   'While You Were Sleeping (1995)'],\n",
       "  ['Strictly Ballroom (1992)',\n",
       "   'Benny & Joon (1993)',\n",
       "   'Shakespeare in Love (1998)',\n",
       "   'Secrets & Lies (1996)',\n",
       "   'Circle of Friends (1995)'],\n",
       "  ['Strictly Ballroom (1992)',\n",
       "   'Benny & Joon (1993)',\n",
       "   'Shakespeare in Love (1998)',\n",
       "   'Secrets & Lies (1996)',\n",
       "   \"What's Eating Gilbert Grape (1993)\"],\n",
       "  ['Strictly Ballroom (1992)',\n",
       "   'Benny & Joon (1993)',\n",
       "   'Shakespeare in Love (1998)',\n",
       "   'Secrets & Lies (1996)',\n",
       "   'Edward Scissorhands (1990)'],\n",
       "  ['Strictly Ballroom (1992)',\n",
       "   'Benny & Joon (1993)',\n",
       "   'Shakespeare in Love (1998)',\n",
       "   'Secrets & Lies (1996)',\n",
       "   'Mask of Zorro'],\n",
       "  ['Strictly Ballroom (1992)',\n",
       "   'Benny & Joon (1993)',\n",
       "   'Shakespeare in Love (1998)',\n",
       "   'Secrets & Lies (1996)',\n",
       "   'Bridges of Madison County'],\n",
       "  ['Strictly Ballroom (1992)',\n",
       "   'Benny & Joon (1993)',\n",
       "   'Shakespeare in Love (1998)',\n",
       "   'Secrets & Lies (1996)',\n",
       "   'Elizabeth (1998)'],\n",
       "  ['Strictly Ballroom (1992)',\n",
       "   'Benny & Joon (1993)',\n",
       "   'Shakespeare in Love (1998)',\n",
       "   'Secrets & Lies (1996)',\n",
       "   'Shine (1996)'],\n",
       "  ['Strictly Ballroom (1992)',\n",
       "   'Benny & Joon (1993)',\n",
       "   'Shakespeare in Love (1998)',\n",
       "   'Secrets & Lies (1996)',\n",
       "   'Dead Again (1991)']],\n",
       " 173,\n",
       " 10,\n",
       " 5,\n",
       " 2.196092128753662,\n",
       " [array([0.39455283]),\n",
       "  array([0.35266619]),\n",
       "  array([0.32251244]),\n",
       "  array([0.31786395]),\n",
       "  array([0.25685361]),\n",
       "  array([0.23765272]),\n",
       "  array([0.20522964]),\n",
       "  array([0.19500219]),\n",
       "  array([0.19105433]),\n",
       "  array([0.18220798])],\n",
       " 5)"
      ]
     },
     "execution_count": 96,
     "metadata": {},
     "output_type": "execute_result"
    }
   ],
   "source": [
    "explanation"
   ]
  }
 ],
 "metadata": {
  "kernelspec": {
   "display_name": "Python 3",
   "language": "python",
   "name": "python3"
  },
  "language_info": {
   "codemirror_mode": {
    "name": "ipython",
    "version": 3
   },
   "file_extension": ".py",
   "mimetype": "text/x-python",
   "name": "python",
   "nbconvert_exporter": "python",
   "pygments_lexer": "ipython3",
   "version": "3.7.3"
  }
 },
 "nbformat": 4,
 "nbformat_minor": 2
}
